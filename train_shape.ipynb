{
 "cells": [
  {
   "cell_type": "code",
   "execution_count": 1,
   "metadata": {},
   "outputs": [],
   "source": [
    "import numpy as np\n",
    "import cv2 as cv"
   ]
  },
  {
   "cell_type": "code",
   "execution_count": 13,
   "metadata": {},
   "outputs": [],
   "source": [
    "# delete all files in data folder\n",
    "import os\n",
    "import shutil\n",
    "\n",
    "width = 64\n",
    "height = 64\n",
    "\n",
    "folder = \"data\"\n",
    "for filename in os.listdir(folder):\n",
    "    file_path = os.path.join(folder, filename)\n",
    "    try:\n",
    "        if os.path.isfile(file_path) or os.path.islink(file_path):\n",
    "            os.unlink(file_path)\n",
    "        elif os.path.isdir(file_path):\n",
    "            shutil.rmtree(file_path)\n",
    "    except Exception as e:\n",
    "        print(\"Failed to delete %s. Reason: %s\" % (file_path, e))\n",
    "\n",
    "# create folders\n",
    "os.mkdir(\"data/circles\")\n",
    "os.mkdir(\"data/squares\")\n",
    "os.mkdir(\"data/triangles\")\n",
    "\n",
    "# generate images\n",
    "n_images = 2000\n",
    "\n",
    "# generate random radius and center\n",
    "radius = np.random.randint(4, width//5, n_images)\n",
    "center = np.random.randint(width//4, 3*width//4, (n_images, 2))\n",
    "color = np.random.randint(100, 255, (n_images, 3))\n",
    "thick = np.random.randint(2, 5, n_images)\n",
    "\n",
    "# generate 32x32 images of circles\n",
    "for i in range(n_images):\n",
    "    img = np.zeros((width, height, 3), dtype=\"uint8\")\n",
    "    ccrd = center[i]\n",
    "    r = radius[i]+5\n",
    "    co = [int(a) for a in color[i]]\n",
    "    t = thick[i]\n",
    "    cv.circle(img, tuple(ccrd), r, co, t)\n",
    "    # save image\n",
    "    cv.imwrite(f\"data/circles/{i:05d}.png\", img)\n",
    "\n",
    "# generate 32x32 images of squares\n",
    "for i in range(n_images):\n",
    "    img = np.zeros((width, height, 3), dtype=\"uint8\")\n",
    "    ccrd = center[i]\n",
    "    r = int(radius[i]*1.3)\n",
    "    co = [int(a) for a in color[i]]\n",
    "    t = thick[i]\n",
    "    cv.rectangle(img, (ccrd[0]-r, ccrd[1]-r), (ccrd[0]+r, ccrd[1]+r), co, t)\n",
    "    # save image\n",
    "    cv.imwrite(f\"data/squares/{i:05d}.png\", img)\n",
    "\n",
    "# generate 32x32 images of triangles\n",
    "for i in range(n_images):\n",
    "    img = np.zeros((width, height, 3), dtype=\"uint8\")\n",
    "    ccrd = center[i]\n",
    "    r = int(radius[i]*1.5)\n",
    "    co = [int(a) for a in color[i]]\n",
    "    t = thick[i]\n",
    "    cv.line(img, (ccrd[0]-r, ccrd[1]-r), (ccrd[0]+r, ccrd[1]-r), co, t)\n",
    "    cv.line(img, (ccrd[0]+r, ccrd[1]-r), (ccrd[0], ccrd[1]+r), co, t)\n",
    "    cv.line(img, (ccrd[0], ccrd[1]+r), (ccrd[0]-r, ccrd[1]-r), co, t)\n",
    "    # save image\n",
    "    cv.imwrite(f\"data/triangles/{i:05d}.png\", img)\n"
   ]
  },
  {
   "cell_type": "code",
   "execution_count": 14,
   "metadata": {},
   "outputs": [],
   "source": [
    "import torch\n",
    "import torch.nn as nn\n",
    "import torch.nn.functional as F\n",
    "import torch.optim as optim\n",
    "import torchvision\n",
    "import torchvision.transforms as transforms\n",
    "\n",
    "import matplotlib.pyplot as plt\n",
    "\n",
    "device = torch.device(\"cuda:0\" if torch.cuda.is_available() else \"cpu\")"
   ]
  },
  {
   "cell_type": "code",
   "execution_count": 15,
   "metadata": {},
   "outputs": [],
   "source": [
    "transfo = transforms.Compose([\n",
    "    transforms.RandomHorizontalFlip(),\n",
    "    transforms.RandomVerticalFlip(),\n",
    "    transforms.RandomRotation(45),\n",
    "    transforms.ToTensor(),\n",
    "])\n",
    "\n",
    "dataset = torchvision.datasets.ImageFolder(root='data', transform=transfo)\n",
    "dataset_loader = torch.utils.data.DataLoader(dataset, batch_size=128, shuffle=True, num_workers=1)"
   ]
  },
  {
   "cell_type": "code",
   "execution_count": 16,
   "metadata": {},
   "outputs": [
    {
     "name": "stdout",
     "output_type": "stream",
     "text": [
      "torch.Size([128, 3, 64, 64]) tensor([1, 0, 2, 0, 2, 2, 2, 2, 1, 1, 0, 2, 0, 0, 1, 1, 1, 1, 1, 0, 1, 1, 1, 2,\n",
      "        0, 0, 0, 0, 0, 2, 1, 1, 1, 0, 1, 2, 2, 1, 0, 2, 2, 2, 2, 1, 1, 1, 1, 1,\n",
      "        2, 1, 2, 1, 2, 1, 2, 1, 0, 1, 0, 0, 0, 2, 1, 2, 2, 2, 0, 0, 1, 2, 2, 2,\n",
      "        1, 2, 1, 1, 2, 0, 1, 2, 0, 2, 0, 1, 1, 2, 0, 2, 2, 1, 2, 1, 0, 0, 0, 2,\n",
      "        1, 0, 0, 1, 1, 2, 2, 0, 0, 1, 0, 1, 0, 2, 0, 2, 0, 1, 1, 2, 0, 1, 0, 1,\n",
      "        0, 0, 1, 2, 2, 1, 0, 1])\n"
     ]
    },
    {
     "data": {
      "image/png": "[encoded data removed]",
      "text/plain": [
       "<Figure size 640x480 with 1 Axes>"
      ]
     },
     "metadata": {},
     "output_type": "display_data"
    }
   ],
   "source": [
    "for image, label in dataset_loader:\n",
    "    print(image.shape, label)\n",
    "    # display image\n",
    "    plt.imshow((1-image[0]).permute(1, 2, 0))\n",
    "    plt.axis('off')\n",
    "    plt.show()\n",
    "    break"
   ]
  },
  {
   "cell_type": "code",
   "execution_count": 17,
   "metadata": {},
   "outputs": [
    {
     "data": {
      "text/plain": [
       "(tensor(0.), tensor(0.9961))"
      ]
     },
     "execution_count": 17,
     "metadata": {},
     "output_type": "execute_result"
    }
   ],
   "source": [
    "image.min(), image.max()"
   ]
  },
  {
   "cell_type": "code",
   "execution_count": 18,
   "metadata": {},
   "outputs": [],
   "source": [
    "# define a FC network 32x32 to 3 classes\n",
    "class ShapeNet(nn.Module):\n",
    "    def __init__(self, hidden_size=100):\n",
    "        super(ShapeNet, self).__init__()\n",
    "        self.conv1 = nn.Conv2d(3, 8, 5, stride=1) # 64x64 -> 60x60\n",
    "        self.conv2 = nn.Conv2d(8, 16, 5, stride=1) # 60x60 -> 56x56\n",
    "        self.conv3 = nn.Conv2d(16, 32, 2, stride=2) # 56x56 -> 28x28\n",
    "        self.fc1 = nn.Linear(28*28*32, hidden_size)\n",
    "        self.fc2 = nn.Linear(hidden_size, 3)\n",
    "        self.relu = nn.ReLU()\n",
    "        self.softmax = nn.Softmax(dim=1)\n",
    "        \n",
    "    def forward(self, x):\n",
    "        x = self.relu(self.conv1(x))\n",
    "        x = self.relu(self.conv2(x))\n",
    "        x = self.relu(self.conv3(x))\n",
    "        x = x.view(-1, 28*28*32)\n",
    "        x = self.relu(self.fc1(x))\n",
    "        x = self.softmax(self.fc2(x))\n",
    "        return x"
   ]
  },
  {
   "cell_type": "code",
   "execution_count": 19,
   "metadata": {},
   "outputs": [],
   "source": [
    "# create model + optimizer\n",
    "model = ShapeNet()\n",
    "model.to(device)\n",
    "optimizer = optim.Adam(model.parameters(), lr=0.001)\n",
    "\n",
    "# loss function\n",
    "criterion = nn.CrossEntropyLoss()\n",
    "num_epochs = 200\n",
    "losses = []"
   ]
  },
  {
   "cell_type": "code",
   "execution_count": null,
   "metadata": {},
   "outputs": [],
   "source": [
    "# train the model\n",
    "for epoch in range(1, num_epochs+1):\n",
    "    running_loss = 0.0\n",
    "    for image, label in dataset_loader:\n",
    "        image = image.to(device)\n",
    "        label = label.to(device)\n",
    "        output = model(image)\n",
    "        loss = criterion(output, label)\n",
    "        optimizer.zero_grad()\n",
    "        loss.backward()\n",
    "        optimizer.step()\n",
    "        running_loss += loss.item()\n",
    "    running_loss /= len(dataset_loader)\n",
    "    losses.append(running_loss)\n",
    "    print(f'Epoch [{epoch}/{num_epochs}], Loss: {running_loss:.4f}')"
   ]
  },
  {
   "cell_type": "code",
   "execution_count": 21,
   "metadata": {},
   "outputs": [
    {
     "data": {
      "image/png": "[encoded data removed]",
      "text/plain": [
       "<Figure size 640x480 with 1 Axes>"
      ]
     },
     "metadata": {},
     "output_type": "display_data"
    }
   ],
   "source": [
    "plt.plot(losses)\n",
    "plt.xlabel('Epoch')\n",
    "plt.ylabel('Loss')\n",
    "plt.show()"
   ]
  },
  {
   "cell_type": "code",
   "execution_count": 26,
   "metadata": {},
   "outputs": [],
   "source": [
    "# delete all files in data folder\n",
    "import os\n",
    "import shutil\n",
    "\n",
    "width = 64\n",
    "height = 64\n",
    "\n",
    "folder = \"data_val\"\n",
    "for filename in os.listdir(folder):\n",
    "    file_path = os.path.join(folder, filename)\n",
    "    try:\n",
    "        if os.path.isfile(file_path) or os.path.islink(file_path):\n",
    "            os.unlink(file_path)\n",
    "        elif os.path.isdir(file_path):\n",
    "            shutil.rmtree(file_path)\n",
    "    except Exception as e:\n",
    "        print(\"Failed to delete %s. Reason: %s\" % (file_path, e))\n",
    "\n",
    "# create folders\n",
    "os.mkdir(\"data_val/circles\")\n",
    "os.mkdir(\"data_val/squares\")\n",
    "os.mkdir(\"data_val/triangles\")\n",
    "\n",
    "# generate images\n",
    "n_images = 200\n",
    "\n",
    "# generate random radius and center\n",
    "radius = np.random.randint(4, width//5, n_images)\n",
    "center = np.random.randint(width//4, 3*width//4, (n_images, 2))\n",
    "color = np.random.randint(100, 255, (n_images, 3))\n",
    "thick = np.random.randint(2, 5, n_images)\n",
    "\n",
    "# generate 32x32 images of circles\n",
    "for i in range(n_images):\n",
    "    img = np.zeros((width, height, 3), dtype=\"uint8\")\n",
    "    ccrd = center[i]\n",
    "    r = radius[i]+5\n",
    "    co = [int(a) for a in color[i]]\n",
    "    t = thick[i]\n",
    "    cv.circle(img, tuple(ccrd), r, co, t)\n",
    "    # save image\n",
    "    cv.imwrite(f\"data_val/circles/{i:05d}.png\", img)\n",
    "\n",
    "# generate 32x32 images of squares\n",
    "for i in range(n_images):\n",
    "    img = np.zeros((width, height, 3), dtype=\"uint8\")\n",
    "    ccrd = center[i]\n",
    "    r = int(radius[i]*1.3)\n",
    "    co = [int(a) for a in color[i]]\n",
    "    t = thick[i]\n",
    "    cv.rectangle(img, (ccrd[0]-r, ccrd[1]-r), (ccrd[0]+r, ccrd[1]+r), co, t)\n",
    "    # save image\n",
    "    cv.imwrite(f\"data_val/squares/{i:05d}.png\", img)\n",
    "\n",
    "# generate 32x32 images of triangles\n",
    "for i in range(n_images):\n",
    "    img = np.zeros((width, height, 3), dtype=\"uint8\")\n",
    "    ccrd = center[i]\n",
    "    r = int(radius[i]*1.5)\n",
    "    co = [int(a) for a in color[i]]\n",
    "    t = thick[i]\n",
    "    cv.line(img, (ccrd[0]-r, ccrd[1]-r), (ccrd[0]+r, ccrd[1]-r), co, t)\n",
    "    cv.line(img, (ccrd[0]+r, ccrd[1]-r), (ccrd[0], ccrd[1]+r), co, t)\n",
    "    cv.line(img, (ccrd[0], ccrd[1]+r), (ccrd[0]-r, ccrd[1]-r), co, t)\n",
    "    # save image\n",
    "    cv.imwrite(f\"data_val/triangles/{i:05d}.png\", img)\n",
    "\n",
    "transfo = transforms.Compose([\n",
    "    transforms.RandomHorizontalFlip(),\n",
    "    transforms.RandomVerticalFlip(),\n",
    "    transforms.RandomRotation(45),\n",
    "    transforms.ToTensor(),\n",
    "])\n",
    "\n",
    "dataval = torchvision.datasets.ImageFolder(root='data_val', transform=transfo)\n",
    "dataval_loader = torch.utils.data.DataLoader(dataset, batch_size=128, shuffle=True, num_workers=1)\n"
   ]
  },
  {
   "cell_type": "code",
   "execution_count": 27,
   "metadata": {},
   "outputs": [
    {
     "data": {
      "image/png": "[encoded data removed]",
      "text/plain": [
       "<Figure size 640x480 with 9 Axes>"
      ]
     },
     "metadata": {},
     "output_type": "display_data"
    },
    {
     "name": "stdout",
     "output_type": "stream",
     "text": [
      "Accuracy: 99.78 %\n"
     ]
    }
   ],
   "source": [
    "class_names = ['circle', 'square', 'triangle']\n",
    "plot=True\n",
    "correct = 0\n",
    "total = 0\n",
    "for images, labels in dataval_loader:\n",
    "    predictions = model(images)\n",
    "    if plot:\n",
    "        for i in range(9):\n",
    "            ax = plt.subplot(3, 3, i + 1)\n",
    "            plt.imshow(1-images[i].numpy().swapaxes(0, 2).swapaxes(0, 1))\n",
    "            pred_class = class_names[torch.argmax(predictions[i])]\n",
    "            plt.title(class_names[labels[i]] + \" \" + pred_class)\n",
    "            plt.axis(\"off\")\n",
    "        plt.show()\n",
    "        plot=False\n",
    "    total += labels.size(0)\n",
    "    correct += (torch.argmax(predictions, dim=1) == labels).sum().item()\n",
    "\n",
    "print(f\"Accuracy: {100*correct/total:.2f} %\")"
   ]
  },
  {
   "cell_type": "code",
   "execution_count": 28,
   "metadata": {},
   "outputs": [
    {
     "name": "stdout",
     "output_type": "stream",
     "text": [
      "============== Diagnostic Run torch.onnx.export version 2.0.0+cpu ==============\n",
      "verbose: False, log level: Level.ERROR\n",
      "======================= 0 NONE 0 NOTE 0 WARNING 0 ERROR ========================\n",
      "\n"
     ]
    }
   ],
   "source": [
    "# export as onnx model\n",
    "dummy_input = image[:1]\n",
    "torch.onnx.export(model, dummy_input, \"shape_reco.onnx\", export_params=True, verbose=True)"
   ]
  }
 ],
 "metadata": {
  "kernelspec": {
   "display_name": "Python 3",
   "language": "python",
   "name": "python3"
  },
  "language_info": {
   "codemirror_mode": {
    "name": "ipython",
    "version": 3
   },
   "file_extension": ".py",
   "mimetype": "text/x-python",
   "name": "python",
   "nbconvert_exporter": "python",
   "pygments_lexer": "ipython3",
   "version": "3.11.4"
  },
  "orig_nbformat": 4
 },
 "nbformat": 4,
 "nbformat_minor": 2
}
