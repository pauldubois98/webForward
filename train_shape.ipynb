{
 "cells": [
  {
   "cell_type": "code",
   "execution_count": 1,
   "metadata": {},
   "outputs": [],
   "source": [
    "import numpy as np\n",
    "import cv2 as cv"
   ]
  },
  {
   "cell_type": "code",
   "execution_count": 2,
   "metadata": {},
   "outputs": [],
   "source": [
    "# delete all files in data folder\n",
    "import os\n",
    "import shutil\n",
    "\n",
    "folder = \"data\"\n",
    "for filename in os.listdir(folder):\n",
    "    file_path = os.path.join(folder, filename)\n",
    "    try:\n",
    "        if os.path.isfile(file_path) or os.path.islink(file_path):\n",
    "            os.unlink(file_path)\n",
    "        elif os.path.isdir(file_path):\n",
    "            shutil.rmtree(file_path)\n",
    "    except Exception as e:\n",
    "        print(\"Failed to delete %s. Reason: %s\" % (file_path, e))\n",
    "\n",
    "# create folders\n",
    "os.mkdir(\"data/circles\")\n",
    "os.mkdir(\"data/squares\")\n",
    "os.mkdir(\"data/triangles\")\n",
    "\n",
    "# generate images\n",
    "n_images = 10\n",
    "\n",
    "# generate random radius and center\n",
    "radius = np.random.randint(3, 8, n_images)\n",
    "center = np.random.randint(5, 27, (n_images, 2))\n",
    "color = np.random.randint(100, 255, (n_images, 3))\n",
    "thick = np.random.randint(1, 2, n_images)\n",
    "\n",
    "# generate 32x32 images of circles\n",
    "for i in range(n_images):\n",
    "    img = np.zeros((32, 32, 3), dtype=\"uint8\")\n",
    "    ccrd = center[i]\n",
    "    r = radius[i]\n",
    "    co = [int(a) for a in color[i]]\n",
    "    t = thick[i]\n",
    "    cv.circle(img, tuple(ccrd), r, co, t)\n",
    "    # save image\n",
    "    cv.imwrite(f\"data/circles/{i:05d}.png\", img)\n",
    "\n",
    "# generate 32x32 images of squares\n",
    "for i in range(n_images):\n",
    "    img = np.zeros((32, 32, 3), dtype=\"uint8\")\n",
    "    ccrd = center[i]\n",
    "    r = int(radius[i]*1.3)\n",
    "    co = [int(a) for a in color[i]]\n",
    "    t = thick[i]\n",
    "    cv.rectangle(img, (ccrd[0]-r, ccrd[1]-r), (ccrd[0]+r, ccrd[1]+r), co, t)\n",
    "    # save image\n",
    "    cv.imwrite(f\"data/squares/{i:05d}.png\", img)\n",
    "\n",
    "# generate 32x32 images of triangles\n",
    "for i in range(n_images):\n",
    "    img = np.zeros((32, 32, 3), dtype=\"uint8\")\n",
    "    ccrd = center[i]\n",
    "    r = int(radius[i]*1.5)\n",
    "    co = [int(a) for a in color[i]]\n",
    "    t = thick[i]\n",
    "    cv.line(img, (ccrd[0]-r, ccrd[1]-r), (ccrd[0]+r, ccrd[1]-r), co, t)\n",
    "    cv.line(img, (ccrd[0]+r, ccrd[1]-r), (ccrd[0], ccrd[1]+r), co, t)\n",
    "    cv.line(img, (ccrd[0], ccrd[1]+r), (ccrd[0]-r, ccrd[1]-r), co, t)\n",
    "    # save image\n",
    "    cv.imwrite(f\"data/triangles/{i:05d}.png\", img)\n"
   ]
  },
  {
   "cell_type": "code",
   "execution_count": 3,
   "metadata": {},
   "outputs": [],
   "source": [
    "import torch\n",
    "import torch.nn as nn\n",
    "import torch.nn.functional as F\n",
    "import torch.optim as optim\n",
    "import torchvision\n",
    "import torchvision.transforms as transforms\n",
    "\n",
    "import matplotlib.pyplot as plt"
   ]
  },
  {
   "cell_type": "code",
   "execution_count": 4,
   "metadata": {},
   "outputs": [],
   "source": [
    "dataset = torchvision.datasets.ImageFolder(root='data', transform=transforms.ToTensor())\n",
    "dataset_loader = torch.utils.data.DataLoader(dataset, batch_size=1, shuffle=True, num_workers=1)"
   ]
  },
  {
   "cell_type": "code",
   "execution_count": 5,
   "metadata": {},
   "outputs": [
    {
     "name": "stdout",
     "output_type": "stream",
     "text": [
      "torch.Size([1, 3, 32, 32]) tensor([1])\n"
     ]
    },
    {
     "data": {
      "image/png": "[encoded data removed]",
      "text/plain": [
       "<Figure size 640x480 with 1 Axes>"
      ]
     },
     "metadata": {},
     "output_type": "display_data"
    }
   ],
   "source": [
    "for image, label in dataset_loader:\n",
    "    print(image.shape, label)\n",
    "    # display image\n",
    "    plt.imshow(image[0].permute(1, 2, 0))\n",
    "    plt.axis('off')\n",
    "    plt.show()\n",
    "    break"
   ]
  },
  {
   "cell_type": "code",
   "execution_count": 7,
   "metadata": {},
   "outputs": [],
   "source": [
    "# define a FC network 32x32 to 3 classes\n",
    "class ShapeNet(nn.Module):\n",
    "    def __init__(self, hidden_size=100):\n",
    "        super(ShapeNet, self).__init__()\n",
    "        self.fc1 = nn.Linear(32*32, hidden_size)\n",
    "        self.fc2 = nn.Linear(hidden_size, 3)\n",
    "        self.relu = nn.ReLU()\n",
    "        self.softmax = nn.Softmax(dim=1)\n",
    "        \n",
    "    def forward(self, x):\n",
    "        x = x.view(-1, 32*32)\n",
    "        x = self.relu(self.fc1(x))\n",
    "        x = self.softmax(self.fc2(x))\n",
    "        return x"
   ]
  },
  {
   "cell_type": "code",
   "execution_count": null,
   "metadata": {},
   "outputs": [],
   "source": []
  }
 ],
 "metadata": {
  "kernelspec": {
   "display_name": "Python 3",
   "language": "python",
   "name": "python3"
  },
  "language_info": {
   "codemirror_mode": {
    "name": "ipython",
    "version": 3
   },
   "file_extension": ".py",
   "mimetype": "text/x-python",
   "name": "python",
   "nbconvert_exporter": "python",
   "pygments_lexer": "ipython3",
   "version": "3.11.4"
  },
  "orig_nbformat": 4
 },
 "nbformat": 4,
 "nbformat_minor": 2
}
