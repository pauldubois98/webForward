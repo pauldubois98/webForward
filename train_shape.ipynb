{
 "cells": [
  {
   "cell_type": "code",
   "execution_count": 1,
   "metadata": {},
   "outputs": [],
   "source": [
    "import numpy as np\n",
    "import cv2 as cv"
   ]
  },
  {
   "cell_type": "code",
   "execution_count": 5,
   "metadata": {},
   "outputs": [],
   "source": [
    "# delete all files in data folder\n",
    "import os\n",
    "import shutil\n",
    "\n",
    "folder = \"data\"\n",
    "for filename in os.listdir(folder):\n",
    "    file_path = os.path.join(folder, filename)\n",
    "    try:\n",
    "        if os.path.isfile(file_path) or os.path.islink(file_path):\n",
    "            os.unlink(file_path)\n",
    "        elif os.path.isdir(file_path):\n",
    "            shutil.rmtree(file_path)\n",
    "    except Exception as e:\n",
    "        print(\"Failed to delete %s. Reason: %s\" % (file_path, e))\n",
    "\n",
    "# create folders\n",
    "os.mkdir(\"data/circles\")\n",
    "os.mkdir(\"data/squares\")\n",
    "os.mkdir(\"data/triangles\")\n",
    "\n",
    "# generate images\n",
    "n_images = 10\n",
    "\n",
    "# generate random radius and center\n",
    "radius = np.random.randint(3, 8, n_images)\n",
    "center = np.random.randint(5, 27, (n_images, 2))\n",
    "color = np.random.randint(100, 255, (n_images, 3))\n",
    "thick = np.random.randint(1, 2, n_images)\n",
    "\n",
    "# generate 32x32 images of circles\n",
    "for i in range(n_images):\n",
    "    img = np.zeros((32, 32, 3), dtype=\"uint8\")\n",
    "    ccrd = center[i]\n",
    "    r = radius[i]\n",
    "    co = [int(a) for a in color[i]]\n",
    "    t = thick[i]\n",
    "    cv.circle(img, tuple(ccrd), r, co, t)\n",
    "    # save image\n",
    "    cv.imwrite(f\"data/circles/{i:05d}.png\", img)\n",
    "\n",
    "# generate 32x32 images of squares\n",
    "for i in range(n_images):\n",
    "    img = np.zeros((32, 32, 3), dtype=\"uint8\")\n",
    "    ccrd = center[i]\n",
    "    r = radius[i]\n",
    "    co = [int(a) for a in color[i]]\n",
    "    t = thick[i]\n",
    "    cv.rectangle(img, (ccrd[0]-r, ccrd[1]-r), (ccrd[0]+r, ccrd[1]+r), co, t)\n",
    "    # save image\n",
    "    cv.imwrite(f\"data/squares/{i:05d}.png\", img)\n",
    "\n",
    "# generate 32x32 images of triangles\n",
    "for i in range(n_images):\n",
    "    img = np.zeros((32, 32, 3), dtype=\"uint8\")\n",
    "    ccrd = center[i]\n",
    "    r = radius[i]\n",
    "    co = [int(a) for a in color[i]]\n",
    "    t = thick[i]\n",
    "    cv.line(img, (ccrd[0]-r, ccrd[1]-r), (ccrd[0]+r, ccrd[1]-r), co, t)\n",
    "    cv.line(img, (ccrd[0]+r, ccrd[1]-r), (ccrd[0], ccrd[1]+r), co, t)\n",
    "    cv.line(img, (ccrd[0], ccrd[1]+r), (ccrd[0]-r, ccrd[1]-r), co, t)\n",
    "    # save image\n",
    "    cv.imwrite(f\"data/triangles/{i:05d}.png\", img)\n"
   ]
  },
  {
   "cell_type": "code",
   "execution_count": 3,
   "metadata": {},
   "outputs": [],
   "source": [
    "import torch\n"
   ]
  }
 ],
 "metadata": {
  "kernelspec": {
   "display_name": "Python 3",
   "language": "python",
   "name": "python3"
  },
  "language_info": {
   "codemirror_mode": {
    "name": "ipython",
    "version": 3
   },
   "file_extension": ".py",
   "mimetype": "text/x-python",
   "name": "python",
   "nbconvert_exporter": "python",
   "pygments_lexer": "ipython3",
   "version": "3.11.4"
  },
  "orig_nbformat": 4
 },
 "nbformat": 4,
 "nbformat_minor": 2
}
