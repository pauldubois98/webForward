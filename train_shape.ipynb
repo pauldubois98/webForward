{
 "cells": [
  {
   "cell_type": "code",
   "execution_count": 58,
   "metadata": {},
   "outputs": [],
   "source": [
    "import numpy as np\n",
    "import cv2 as cv\n",
    "import random"
   ]
  },
  {
   "cell_type": "code",
   "execution_count": 59,
   "metadata": {},
   "outputs": [],
   "source": [
    "# delete all files in data folder\n",
    "import os\n",
    "import shutil\n",
    "\n",
    "width = 64\n",
    "height = 64\n",
    "\n",
    "folder = \"data\"\n",
    "for filename in os.listdir(folder):\n",
    "    file_path = os.path.join(folder, filename)\n",
    "    try:\n",
    "        if os.path.isfile(file_path) or os.path.islink(file_path):\n",
    "            os.unlink(file_path)\n",
    "        elif os.path.isdir(file_path):\n",
    "            shutil.rmtree(file_path)\n",
    "    except Exception as e:\n",
    "        print(\"Failed to delete %s. Reason: %s\" % (file_path, e))\n",
    "\n",
    "# create folders\n",
    "os.mkdir(\"data/circles\")\n",
    "os.mkdir(\"data/squares\")\n",
    "os.mkdir(\"data/triangles\")\n",
    "os.mkdir(\"data/none\")\n",
    "\n",
    "# generate images\n",
    "n_images = 2000\n",
    "\n",
    "# generate random radius and center\n",
    "radius = np.random.randint(2, width//2-2, n_images)\n",
    "r_min = np.array([radius+1, radius+1]).T\n",
    "r_max = np.array([width-radius-1, height-radius-1]).T\n",
    "center = np.random.randint(r_min, r_max, (n_images, 2))\n",
    "color = np.random.randint(100, 255, (n_images, 3))\n",
    "thick = np.random.randint(2, 5, n_images)\n",
    "\n",
    "# generate 32x32 images of circles\n",
    "for i in range(n_images):\n",
    "    img = np.zeros((width, height, 3), dtype=\"uint8\")\n",
    "    ccrd = center[i]\n",
    "    r = radius[i]\n",
    "    co = [int(a) for a in color[i]]\n",
    "    t = thick[i]\n",
    "    cv.circle(img, tuple(ccrd), r, co, t)\n",
    "    # save image\n",
    "    cv.imwrite(f\"data/circles/{i:05d}.png\", img)\n",
    "\n",
    "# generate 32x32 images of squares\n",
    "for i in range(n_images):\n",
    "    img = np.zeros((width, height, 3), dtype=\"uint8\")\n",
    "    ccrd = center[i]\n",
    "    r = radius[i]\n",
    "    co = [int(a) for a in color[i]]\n",
    "    t = thick[i]\n",
    "    cv.rectangle(img, (ccrd[0]-r, ccrd[1]-r), (ccrd[0]+r, ccrd[1]+r), co, t)\n",
    "    # save image\n",
    "    cv.imwrite(f\"data/squares/{i:05d}.png\", img)\n",
    "\n",
    "# generate 32x32 images of triangles\n",
    "for i in range(n_images):\n",
    "    img = np.zeros((width, height, 3), dtype=\"uint8\")\n",
    "    ccrd = center[i]\n",
    "    r = radius[i]\n",
    "    co = [int(a) for a in color[i]]\n",
    "    t = thick[i]\n",
    "    cv.line(img, (ccrd[0]-r, ccrd[1]-r), (ccrd[0]+r, ccrd[1]-r), co, t)\n",
    "    cv.line(img, (ccrd[0]+r, ccrd[1]-r), (ccrd[0], ccrd[1]+r), co, t)\n",
    "    cv.line(img, (ccrd[0], ccrd[1]+r), (ccrd[0]-r, ccrd[1]-r), co, t)\n",
    "    # save image\n",
    "    cv.imwrite(f\"data/triangles/{i:05d}.png\", img)\n",
    "\n",
    "\n",
    "# generate 32x32 images of random lines\n",
    "for i in range(n_images):\n",
    "    img = np.zeros((width, height, 3), dtype=\"uint8\")\n",
    "    ccrd = center[i]\n",
    "    r = radius[i]\n",
    "    co = [int(a) for a in color[i]]\n",
    "    t = thick[i]\n",
    "    # get random points\n",
    "    for j in range(random.randint(1, 5)):\n",
    "        p1 = np.random.randint(0, width, 2)\n",
    "        p2 = np.random.randint(0, width, 2)\n",
    "        cv.line(img, tuple(p1), tuple(p2), co, t)\n",
    "    # save image\n",
    "    cv.imwrite(f\"data/none/{i:05d}.png\", img)\n"
   ]
  },
  {
   "cell_type": "code",
   "execution_count": 60,
   "metadata": {},
   "outputs": [],
   "source": [
    "import torch\n",
    "import torch.nn as nn\n",
    "import torch.nn.functional as F\n",
    "import torch.optim as optim\n",
    "import torchvision\n",
    "import torchvision.transforms as transforms\n",
    "\n",
    "import matplotlib.pyplot as plt\n",
    "\n",
    "device = torch.device(\"cuda:0\" if torch.cuda.is_available() else \"cpu\")"
   ]
  },
  {
   "cell_type": "code",
   "execution_count": 61,
   "metadata": {},
   "outputs": [],
   "source": [
    "transfo = transforms.Compose([\n",
    "    transforms.RandomHorizontalFlip(),\n",
    "    transforms.RandomVerticalFlip(),\n",
    "    transforms.RandomRotation(45),\n",
    "    transforms.ToTensor(),\n",
    "])\n",
    "\n",
    "dataset = torchvision.datasets.ImageFolder(root='data', transform=transfo)\n",
    "dataset_loader = torch.utils.data.DataLoader(dataset, batch_size=128, shuffle=True, num_workers=1)"
   ]
  },
  {
   "cell_type": "code",
   "execution_count": 62,
   "metadata": {},
   "outputs": [
    {
     "name": "stdout",
     "output_type": "stream",
     "text": [
      "torch.Size([128, 3, 64, 64]) tensor([3, 3, 1, 2, 0, 3, 2, 1, 1, 0, 0, 3, 1, 0, 0, 1, 0, 3, 1, 2, 3, 0, 3, 3,\n",
      "        2, 2, 1, 0, 1, 2, 2, 2, 1, 1, 3, 3, 3, 3, 2, 1, 3, 0, 2, 3, 3, 0, 3, 2,\n",
      "        1, 3, 2, 3, 2, 0, 1, 0, 2, 3, 3, 2, 3, 2, 2, 0, 0, 3, 3, 1, 3, 3, 2, 1,\n",
      "        0, 3, 1, 3, 3, 1, 0, 2, 2, 1, 3, 1, 2, 2, 0, 1, 3, 1, 1, 0, 0, 3, 3, 0,\n",
      "        1, 3, 0, 1, 3, 0, 1, 3, 3, 0, 0, 3, 1, 0, 0, 2, 1, 2, 3, 1, 0, 0, 1, 0,\n",
      "        2, 0, 3, 1, 1, 3, 2, 0])\n"
     ]
    },
    {
     "data": {
      "image/png": "[encoded data removed]",
      "text/plain": [
       "<Figure size 640x480 with 1 Axes>"
      ]
     },
     "metadata": {},
     "output_type": "display_data"
    }
   ],
   "source": [
    "for image, label in dataset_loader:\n",
    "    print(image.shape, label)\n",
    "    # display image\n",
    "    plt.imshow((1-image[0]).permute(1, 2, 0))\n",
    "    plt.axis('off')\n",
    "    plt.show()\n",
    "    break"
   ]
  },
  {
   "cell_type": "code",
   "execution_count": 63,
   "metadata": {},
   "outputs": [
    {
     "data": {
      "text/plain": [
       "(tensor(0.), tensor(0.9961))"
      ]
     },
     "execution_count": 63,
     "metadata": {},
     "output_type": "execute_result"
    }
   ],
   "source": [
    "image.min(), image.max()"
   ]
  },
  {
   "cell_type": "code",
   "execution_count": 64,
   "metadata": {},
   "outputs": [],
   "source": [
    "# define a FC network 32x32 to 3 classes\n",
    "class ShapeNet(nn.Module):\n",
    "    def __init__(self, hidden_size=32):\n",
    "        super(ShapeNet, self).__init__()\n",
    "        self.conv1 = nn.Conv2d(3, 8, 5, stride=2) # 64x64 -> 30x30\n",
    "        self.conv2 = nn.Conv2d(8, 16, 5, stride=1) # 30x30 -> 26x26\n",
    "        self.conv3 = nn.Conv2d(16, 32, 5, stride=1) # 26x26 -> 22x22\n",
    "        self.conv4 = nn.Conv2d(32, 32, 5, stride=1) # 22x22 -> 18x18\n",
    "        self.conv5 = nn.Conv2d(32, 32, 5, stride=1) # 18x18 -> 14x14\n",
    "        self.fc1 = nn.Linear(14*14*32, hidden_size)\n",
    "        self.fc2 = nn.Linear(hidden_size, 4)\n",
    "        self.relu = nn.ReLU()\n",
    "        self.softmax = nn.Softmax(dim=1)\n",
    "        \n",
    "    def forward(self, x):\n",
    "        x = self.relu(self.conv1(x))\n",
    "        x = self.relu(self.conv2(x))\n",
    "        x = self.relu(self.conv3(x))\n",
    "        x = self.relu(self.conv4(x))\n",
    "        x = self.relu(self.conv5(x))\n",
    "        x = x.view(-1, 14*14*32)\n",
    "        x = self.relu(self.fc1(x))\n",
    "        x = self.softmax(self.fc2(x))\n",
    "        return x"
   ]
  },
  {
   "cell_type": "code",
   "execution_count": 65,
   "metadata": {},
   "outputs": [],
   "source": [
    "# create model + optimizer\n",
    "model = ShapeNet()\n",
    "model.to(device)\n",
    "optimizer = optim.Adam(model.parameters(), lr=0.001)\n",
    "\n",
    "# loss function\n",
    "criterion = nn.CrossEntropyLoss()\n",
    "num_epochs = 15\n",
    "losses = []"
   ]
  },
  {
   "cell_type": "code",
   "execution_count": 66,
   "metadata": {},
   "outputs": [
    {
     "name": "stdout",
     "output_type": "stream",
     "text": [
      "Epoch [1/15], Loss: 1.3713\n",
      "Epoch [2/15], Loss: 1.3342\n",
      "Epoch [3/15], Loss: 1.2681\n",
      "Epoch [4/15], Loss: 1.2095\n",
      "Epoch [5/15], Loss: 1.1509\n",
      "Epoch [6/15], Loss: 1.1168\n",
      "Epoch [7/15], Loss: 1.0907\n",
      "Epoch [8/15], Loss: 1.0376\n",
      "Epoch [9/15], Loss: 1.0177\n",
      "Epoch [10/15], Loss: 0.9759\n",
      "Epoch [11/15], Loss: 0.9582\n",
      "Epoch [12/15], Loss: 0.9381\n",
      "Epoch [13/15], Loss: 0.9172\n",
      "Epoch [14/15], Loss: 0.9208\n",
      "Epoch [15/15], Loss: 0.9049\n"
     ]
    }
   ],
   "source": [
    "# train the model\n",
    "for epoch in range(1, num_epochs+1):\n",
    "    running_loss = 0.0\n",
    "    for image, label in dataset_loader:\n",
    "        image = image.to(device)\n",
    "        label = label.to(device)\n",
    "        output = model(image)\n",
    "        loss = criterion(output, label)\n",
    "        optimizer.zero_grad()\n",
    "        loss.backward()\n",
    "        optimizer.step()\n",
    "        running_loss += loss.item()\n",
    "    running_loss /= len(dataset_loader)\n",
    "    losses.append(running_loss)\n",
    "    print(f'Epoch [{epoch}/{num_epochs}], Loss: {running_loss:.4f}')"
   ]
  },
  {
   "cell_type": "code",
   "execution_count": 67,
   "metadata": {},
   "outputs": [
    {
     "data": {
      "image/png": "[encoded data removed]",
      "text/plain": [
       "<Figure size 640x480 with 1 Axes>"
      ]
     },
     "metadata": {},
     "output_type": "display_data"
    }
   ],
   "source": [
    "plt.plot(losses)\n",
    "plt.xlabel('Epoch')\n",
    "plt.ylabel('Loss')\n",
    "plt.show()"
   ]
  },
  {
   "cell_type": "code",
   "execution_count": 68,
   "metadata": {},
   "outputs": [],
   "source": [
    "# delete all files in data folder\n",
    "import os\n",
    "import shutil\n",
    "\n",
    "width = 64\n",
    "height = 64\n",
    "\n",
    "folder = \"data_val\"\n",
    "for filename in os.listdir(folder):\n",
    "    file_path = os.path.join(folder, filename)\n",
    "    try:\n",
    "        if os.path.isfile(file_path) or os.path.islink(file_path):\n",
    "            os.unlink(file_path)\n",
    "        elif os.path.isdir(file_path):\n",
    "            shutil.rmtree(file_path)\n",
    "    except Exception as e:\n",
    "        print(\"Failed to delete %s. Reason: %s\" % (file_path, e))\n",
    "\n",
    "# create folders\n",
    "os.mkdir(\"data_val/circles\")\n",
    "os.mkdir(\"data_val/squares\")\n",
    "os.mkdir(\"data_val/triangles\")\n",
    "os.mkdir(\"data_val/none\")\n",
    "\n",
    "# generate images\n",
    "n_images = 200\n",
    "\n",
    "# generate random radius and center\n",
    "radius = np.random.randint(4, width//2-2, n_images)\n",
    "r_min = np.array([radius+1, radius+1]).T\n",
    "r_max = np.array([width-radius-1, height-radius-1]).T\n",
    "center = np.random.randint(r_min, r_max, (n_images, 2))\n",
    "color = np.random.randint(100, 255, (n_images, 3))\n",
    "thick = np.random.randint(2, 5, n_images)\n",
    "\n",
    "# generate 32x32 images of circles\n",
    "for i in range(n_images):\n",
    "    img = np.zeros((width, height, 3), dtype=\"uint8\")\n",
    "    ccrd = center[i]\n",
    "    r = radius[i]+5\n",
    "    co = [int(a) for a in color[i]]\n",
    "    t = thick[i]\n",
    "    cv.circle(img, tuple(ccrd), r, co, t)\n",
    "    # save image\n",
    "    cv.imwrite(f\"data_val/circles/{i:05d}.png\", img)\n",
    "\n",
    "# generate 32x32 images of squares\n",
    "for i in range(n_images):\n",
    "    img = np.zeros((width, height, 3), dtype=\"uint8\")\n",
    "    ccrd = center[i]\n",
    "    r = int(radius[i]*1.3)\n",
    "    co = [int(a) for a in color[i]]\n",
    "    t = thick[i]\n",
    "    cv.rectangle(img, (ccrd[0]-r, ccrd[1]-r), (ccrd[0]+r, ccrd[1]+r), co, t)\n",
    "    # save image\n",
    "    cv.imwrite(f\"data_val/squares/{i:05d}.png\", img)\n",
    "\n",
    "# generate 32x32 images of triangles\n",
    "for i in range(n_images):\n",
    "    img = np.zeros((width, height, 3), dtype=\"uint8\")\n",
    "    ccrd = center[i]\n",
    "    r = int(radius[i]*1.5)\n",
    "    co = [int(a) for a in color[i]]\n",
    "    t = thick[i]\n",
    "    cv.line(img, (ccrd[0]-r, ccrd[1]-r), (ccrd[0]+r, ccrd[1]-r), co, t)\n",
    "    cv.line(img, (ccrd[0]+r, ccrd[1]-r), (ccrd[0], ccrd[1]+r), co, t)\n",
    "    cv.line(img, (ccrd[0], ccrd[1]+r), (ccrd[0]-r, ccrd[1]-r), co, t)\n",
    "    # save image\n",
    "    cv.imwrite(f\"data_val/triangles/{i:05d}.png\", img)\n",
    "\n",
    "# generate 32x32 images of random lines\n",
    "for i in range(n_images):\n",
    "    img = np.zeros((width, height, 3), dtype=\"uint8\")\n",
    "    ccrd = center[i]\n",
    "    r = radius[i]\n",
    "    co = [int(a) for a in color[i]]\n",
    "    t = thick[i]\n",
    "    # get random points\n",
    "    for j in range(random.randint(1, 5)):\n",
    "        p1 = np.random.randint(0, width, 2)\n",
    "        p2 = np.random.randint(0, width, 2)\n",
    "        cv.line(img, tuple(p1), tuple(p2), co, t)\n",
    "    # save image\n",
    "    cv.imwrite(f\"data_val/none/{i:05d}.png\", img)\n",
    "\n",
    "transfo = transforms.Compose([\n",
    "    transforms.RandomHorizontalFlip(),\n",
    "    transforms.RandomVerticalFlip(),\n",
    "    transforms.RandomRotation(45),\n",
    "    transforms.ToTensor(),\n",
    "])\n",
    "\n",
    "dataval = torchvision.datasets.ImageFolder(root='data_val', transform=transfo)\n",
    "dataval_loader = torch.utils.data.DataLoader(dataset, batch_size=128, shuffle=True, num_workers=1)\n"
   ]
  },
  {
   "cell_type": "code",
   "execution_count": 69,
   "metadata": {},
   "outputs": [
    {
     "name": "stdout",
     "output_type": "stream",
     "text": [
      "['circles', 'none', 'squares', 'triangles']\n"
     ]
    },
    {
     "data": {
      "image/png": "[encoded data removed]",
      "text/plain": [
       "<Figure size 640x480 with 9 Axes>"
      ]
     },
     "metadata": {},
     "output_type": "display_data"
    },
    {
     "name": "stdout",
     "output_type": "stream",
     "text": [
      "Accuracy: 80.47 %\n"
     ]
    }
   ],
   "source": [
    "class_names = dataval.find_classes('data_val')[0]\n",
    "print(class_names)\n",
    "plot = True\n",
    "correct = 0\n",
    "total = 0\n",
    "for images, labels in dataval_loader:\n",
    "    predictions = model(images)\n",
    "    if plot:\n",
    "        for i in range(9):\n",
    "            ax = plt.subplot(3, 3, i + 1)\n",
    "            ax.imshow(1-images[i].numpy().swapaxes(0, 2).swapaxes(0, 1))\n",
    "            pred_class = class_names[torch.argmax(predictions[i])]\n",
    "            real_class = class_names[labels[i]]\n",
    "            ax.set_title(f\"Predicted: {pred_class}\\nReal: {real_class}\")\n",
    "            plt.axis(\"off\")\n",
    "        plt.show()\n",
    "        plot = False\n",
    "    total += labels.size(0)\n",
    "    correct += (torch.argmax(predictions, dim=1) == labels).sum().item()\n",
    "    break\n",
    "print(f\"Accuracy: {100*correct/total:.2f} %\")\n"
   ]
  },
  {
   "cell_type": "code",
   "execution_count": 70,
   "metadata": {},
   "outputs": [
    {
     "name": "stdout",
     "output_type": "stream",
     "text": [
      "Accuracy: 85.29 %\n"
     ]
    }
   ],
   "source": [
    "correct = 0\n",
    "total = 0\n",
    "for images, labels in dataval_loader:\n",
    "    predictions = model(images)\n",
    "    total += labels.size(0)\n",
    "    correct += (torch.argmax(predictions, dim=1) == labels).sum().item()\n",
    "\n",
    "print(f\"Accuracy: {100*correct/total:.2f} %\")"
   ]
  },
  {
   "cell_type": "code",
   "execution_count": 71,
   "metadata": {},
   "outputs": [
    {
     "name": "stdout",
     "output_type": "stream",
     "text": [
      "============== Diagnostic Run torch.onnx.export version 2.0.0+cpu ==============\n",
      "verbose: False, log level: Level.ERROR\n",
      "======================= 0 NONE 0 NOTE 0 WARNING 0 ERROR ========================\n",
      "\n"
     ]
    }
   ],
   "source": [
    "# export as onnx model\n",
    "dummy_input = image[:1]\n",
    "torch.onnx.export(model, dummy_input, \"shape_reco.onnx\", export_params=True, verbose=True)"
   ]
  }
 ],
 "metadata": {
  "kernelspec": {
   "display_name": "Python 3",
   "language": "python",
   "name": "python3"
  },
  "language_info": {
   "codemirror_mode": {
    "name": "ipython",
    "version": 3
   },
   "file_extension": ".py",
   "mimetype": "text/x-python",
   "name": "python",
   "nbconvert_exporter": "python",
   "pygments_lexer": "ipython3",
   "version": "3.11.4"
  },
  "orig_nbformat": 4
 },
 "nbformat": 4,
 "nbformat_minor": 2
}
